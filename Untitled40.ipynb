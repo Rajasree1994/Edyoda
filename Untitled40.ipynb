{
 "cells": [
  {
   "cell_type": "code",
   "execution_count": 8,
   "id": "2ab09407",
   "metadata": {},
   "outputs": [
    {
     "name": "stdout",
     "output_type": "stream",
     "text": [
      "The Real String:  1234abcd\n",
      "The Reversed String:  dcba4321\n"
     ]
    }
   ],
   "source": [
    "def reverse(string):\n",
    "    string=string[::-1]\n",
    "    return string\n",
    "r=\"1234abcd\"\n",
    "print(\"The Real String: \",end=\" \")\n",
    "print (r)\n",
    "print(\"The Reversed String: \",end=\" \")\n",
    "print(reverse(r))"
   ]
  },
  {
   "cell_type": "code",
   "execution_count": null,
   "id": "ca8766fa",
   "metadata": {},
   "outputs": [],
   "source": []
  }
 ],
 "metadata": {
  "kernelspec": {
   "display_name": "Python 3 (ipykernel)",
   "language": "python",
   "name": "python3"
  },
  "language_info": {
   "codemirror_mode": {
    "name": "ipython",
    "version": 3
   },
   "file_extension": ".py",
   "mimetype": "text/x-python",
   "name": "python",
   "nbconvert_exporter": "python",
   "pygments_lexer": "ipython3",
   "version": "3.10.1"
  }
 },
 "nbformat": 4,
 "nbformat_minor": 5
}
