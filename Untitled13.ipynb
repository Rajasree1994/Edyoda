{
 "cells": [
  {
   "cell_type": "code",
   "execution_count": 1,
   "id": "ca67cb0b",
   "metadata": {},
   "outputs": [
    {
     "name": "stdout",
     "output_type": "stream",
     "text": [
      "Fibonacci series\n",
      "1 1 2 3 5 8 13 21 34 "
     ]
    }
   ],
   "source": [
    "p=0\n",
    "q=1\n",
    "r=1\n",
    "print(\"Fibonacci series\")\n",
    "print(q,end=\" \")\n",
    "while r<=50:\n",
    "    print(r,end=\" \")\n",
    "    p=q\n",
    "    q=r\n",
    "    r=p+q"
   ]
  },
  {
   "cell_type": "code",
   "execution_count": null,
   "id": "d69dacb1",
   "metadata": {},
   "outputs": [],
   "source": []
  }
 ],
 "metadata": {
  "kernelspec": {
   "display_name": "Python 3 (ipykernel)",
   "language": "python",
   "name": "python3"
  },
  "language_info": {
   "codemirror_mode": {
    "name": "ipython",
    "version": 3
   },
   "file_extension": ".py",
   "mimetype": "text/x-python",
   "name": "python",
   "nbconvert_exporter": "python",
   "pygments_lexer": "ipython3",
   "version": "3.10.1"
  }
 },
 "nbformat": 4,
 "nbformat_minor": 5
}
