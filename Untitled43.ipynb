{
 "cells": [
  {
   "cell_type": "code",
   "execution_count": 6,
   "id": "84bd9756",
   "metadata": {},
   "outputs": [
    {
     "name": "stdout",
     "output_type": "stream",
     "text": [
      "Original String:  The quick Brow Fox\n",
      "Total Upper case:  3\n",
      "Total Lower case:  12\n"
     ]
    }
   ],
   "source": [
    "def countcase(strdata):\n",
    "    sencase={'UCASE':0, 'LCASE':0}\n",
    "    for k in strdata:\n",
    "        if k.isupper():\n",
    "            sencase['UCASE']+=1\n",
    "        elif k.islower():\n",
    "            sencase['LCASE']+=1\n",
    "        else:\n",
    "            pass\n",
    "    print('Original String: ',strdata)\n",
    "    print('Total Upper case: ',sencase['UCASE'])\n",
    "    print('Total Lower case: ',sencase['LCASE'])\n",
    "countcase('The quick Brow Fox')          "
   ]
  },
  {
   "cell_type": "code",
   "execution_count": null,
   "id": "b997d8e1",
   "metadata": {},
   "outputs": [],
   "source": []
  }
 ],
 "metadata": {
  "kernelspec": {
   "display_name": "Python 3 (ipykernel)",
   "language": "python",
   "name": "python3"
  },
  "language_info": {
   "codemirror_mode": {
    "name": "ipython",
    "version": 3
   },
   "file_extension": ".py",
   "mimetype": "text/x-python",
   "name": "python",
   "nbconvert_exporter": "python",
   "pygments_lexer": "ipython3",
   "version": "3.10.1"
  }
 },
 "nbformat": 4,
 "nbformat_minor": 5
}
