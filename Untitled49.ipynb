{
 "cells": [
  {
   "cell_type": "code",
   "execution_count": 4,
   "id": "fd2999f2",
   "metadata": {},
   "outputs": [
    {
     "name": "stdout",
     "output_type": "stream",
     "text": [
      "Sample List:  [4, 5, 2, 9]\n",
      "Square the elements of the list:\n",
      "[16, 25, 4, 81]\n"
     ]
    }
   ],
   "source": [
    "def square_num(n):\n",
    "    return n*n\n",
    "d=[4,5,2,9]\n",
    "print(\"Sample List: \",d)\n",
    "result=map(square_num,d)\n",
    "print(\"Square the elements of the list:\")\n",
    "print(list(result))"
   ]
  },
  {
   "cell_type": "code",
   "execution_count": null,
   "id": "5844ddd1",
   "metadata": {},
   "outputs": [],
   "source": []
  }
 ],
 "metadata": {
  "kernelspec": {
   "display_name": "Python 3 (ipykernel)",
   "language": "python",
   "name": "python3"
  },
  "language_info": {
   "codemirror_mode": {
    "name": "ipython",
    "version": 3
   },
   "file_extension": ".py",
   "mimetype": "text/x-python",
   "name": "python",
   "nbconvert_exporter": "python",
   "pygments_lexer": "ipython3",
   "version": "3.10.1"
  }
 },
 "nbformat": 4,
 "nbformat_minor": 5
}
