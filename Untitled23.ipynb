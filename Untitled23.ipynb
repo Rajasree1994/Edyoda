{
 "cells": [
  {
   "cell_type": "code",
   "execution_count": 2,
   "id": "6e21a96b",
   "metadata": {},
   "outputs": [
    {
     "name": "stdout",
     "output_type": "stream",
     "text": [
      "Enter a string: Edyoda\n",
      "Reversed string:  adoydE\n"
     ]
    }
   ],
   "source": [
    "S=input(\"Enter a string: \")\n",
    "print(\"Reversed string: \",S[len(S)-1::-1])"
   ]
  },
  {
   "cell_type": "code",
   "execution_count": null,
   "id": "e1311aed",
   "metadata": {},
   "outputs": [],
   "source": []
  }
 ],
 "metadata": {
  "kernelspec": {
   "display_name": "Python 3 (ipykernel)",
   "language": "python",
   "name": "python3"
  },
  "language_info": {
   "codemirror_mode": {
    "name": "ipython",
    "version": 3
   },
   "file_extension": ".py",
   "mimetype": "text/x-python",
   "name": "python",
   "nbconvert_exporter": "python",
   "pygments_lexer": "ipython3",
   "version": "3.10.1"
  }
 },
 "nbformat": 4,
 "nbformat_minor": 5
}
